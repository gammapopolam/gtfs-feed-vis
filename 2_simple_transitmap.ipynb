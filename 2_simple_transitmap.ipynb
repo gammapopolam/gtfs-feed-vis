{
 "cells": [
  {
   "cell_type": "code",
   "execution_count": 2,
   "metadata": {},
   "outputs": [
    {
     "name": "stdout",
     "output_type": "stream",
     "text": [
      "Gen stop 8\n"
     ]
    },
    {
     "name": "stderr",
     "output_type": "stream",
     "text": [
      "/home/gamma/gtfs-feed-vis/feed.py:236: FutureWarning: The behavior of DataFrame concatenation with empty or all-NA entries is deprecated. In a future version, this will no longer exclude empty or all-NA columns when determining the result dtypes. To retain the old behavior, exclude the relevant entries before the concat operation.\n",
      "  shp_empty=pd.concat([shp_empty, shp_serving])\n"
     ]
    },
    {
     "name": "stdout",
     "output_type": "stream",
     "text": [
      "/home/gamma/gtfs-feed-vis/uud/gtfs/stop_8/stop_8.gpkg\n",
      "Gen stop 9\n"
     ]
    },
    {
     "name": "stderr",
     "output_type": "stream",
     "text": [
      "/home/gamma/gtfs-feed-vis/feed.py:236: FutureWarning: The behavior of DataFrame concatenation with empty or all-NA entries is deprecated. In a future version, this will no longer exclude empty or all-NA columns when determining the result dtypes. To retain the old behavior, exclude the relevant entries before the concat operation.\n",
      "  shp_empty=pd.concat([shp_empty, shp_serving])\n"
     ]
    },
    {
     "name": "stdout",
     "output_type": "stream",
     "text": [
      "/home/gamma/gtfs-feed-vis/uud/gtfs/stop_9/stop_9.gpkg\n",
      "Gen stop 10\n",
      "Series([], Name: count, dtype: int64)\n"
     ]
    },
    {
     "name": "stderr",
     "output_type": "stream",
     "text": [
      "/home/gamma/gtfs-feed-vis/feed.py:236: FutureWarning: The behavior of DataFrame concatenation with empty or all-NA entries is deprecated. In a future version, this will no longer exclude empty or all-NA columns when determining the result dtypes. To retain the old behavior, exclude the relevant entries before the concat operation.\n",
      "  shp_empty=pd.concat([shp_empty, shp_serving])\n"
     ]
    },
    {
     "name": "stdout",
     "output_type": "stream",
     "text": [
      "/home/gamma/gtfs-feed-vis/uud/gtfs/stop_10/stop_10.gpkg\n",
      "Gen stop 11\n",
      "Series([], Name: count, dtype: int64)\n"
     ]
    },
    {
     "name": "stderr",
     "output_type": "stream",
     "text": [
      "/home/gamma/gtfs-feed-vis/feed.py:236: FutureWarning: The behavior of DataFrame concatenation with empty or all-NA entries is deprecated. In a future version, this will no longer exclude empty or all-NA columns when determining the result dtypes. To retain the old behavior, exclude the relevant entries before the concat operation.\n",
      "  shp_empty=pd.concat([shp_empty, shp_serving])\n"
     ]
    },
    {
     "name": "stdout",
     "output_type": "stream",
     "text": [
      "/home/gamma/gtfs-feed-vis/uud/gtfs/stop_11/stop_11.gpkg\n",
      "Gen stop 12\n",
      "Series([], Name: count, dtype: int64)\n"
     ]
    },
    {
     "name": "stderr",
     "output_type": "stream",
     "text": [
      "/home/gamma/gtfs-feed-vis/feed.py:236: FutureWarning: The behavior of DataFrame concatenation with empty or all-NA entries is deprecated. In a future version, this will no longer exclude empty or all-NA columns when determining the result dtypes. To retain the old behavior, exclude the relevant entries before the concat operation.\n",
      "  shp_empty=pd.concat([shp_empty, shp_serving])\n"
     ]
    },
    {
     "name": "stdout",
     "output_type": "stream",
     "text": [
      "/home/gamma/gtfs-feed-vis/uud/gtfs/stop_12/stop_12.gpkg\n",
      "Gen stop 13\n",
      "Series([], Name: count, dtype: int64)\n"
     ]
    },
    {
     "name": "stderr",
     "output_type": "stream",
     "text": [
      "/home/gamma/gtfs-feed-vis/feed.py:236: FutureWarning: The behavior of DataFrame concatenation with empty or all-NA entries is deprecated. In a future version, this will no longer exclude empty or all-NA columns when determining the result dtypes. To retain the old behavior, exclude the relevant entries before the concat operation.\n",
      "  shp_empty=pd.concat([shp_empty, shp_serving])\n"
     ]
    },
    {
     "name": "stdout",
     "output_type": "stream",
     "text": [
      "/home/gamma/gtfs-feed-vis/uud/gtfs/stop_13/stop_13.gpkg\n",
      "Gen stop 14\n"
     ]
    },
    {
     "name": "stderr",
     "output_type": "stream",
     "text": [
      "/home/gamma/gtfs-feed-vis/feed.py:236: FutureWarning: The behavior of DataFrame concatenation with empty or all-NA entries is deprecated. In a future version, this will no longer exclude empty or all-NA columns when determining the result dtypes. To retain the old behavior, exclude the relevant entries before the concat operation.\n",
      "  shp_empty=pd.concat([shp_empty, shp_serving])\n"
     ]
    },
    {
     "name": "stdout",
     "output_type": "stream",
     "text": [
      "/home/gamma/gtfs-feed-vis/uud/gtfs/stop_14/stop_14.gpkg\n",
      "Gen stop 15\n"
     ]
    },
    {
     "name": "stderr",
     "output_type": "stream",
     "text": [
      "/home/gamma/gtfs-feed-vis/feed.py:236: FutureWarning: The behavior of DataFrame concatenation with empty or all-NA entries is deprecated. In a future version, this will no longer exclude empty or all-NA columns when determining the result dtypes. To retain the old behavior, exclude the relevant entries before the concat operation.\n",
      "  shp_empty=pd.concat([shp_empty, shp_serving])\n"
     ]
    },
    {
     "name": "stdout",
     "output_type": "stream",
     "text": [
      "/home/gamma/gtfs-feed-vis/uud/gtfs/stop_15/stop_15.gpkg\n",
      "Gen stop 16\n"
     ]
    },
    {
     "name": "stderr",
     "output_type": "stream",
     "text": [
      "/home/gamma/gtfs-feed-vis/feed.py:236: FutureWarning: The behavior of DataFrame concatenation with empty or all-NA entries is deprecated. In a future version, this will no longer exclude empty or all-NA columns when determining the result dtypes. To retain the old behavior, exclude the relevant entries before the concat operation.\n",
      "  shp_empty=pd.concat([shp_empty, shp_serving])\n"
     ]
    },
    {
     "name": "stdout",
     "output_type": "stream",
     "text": [
      "/home/gamma/gtfs-feed-vis/uud/gtfs/stop_16/stop_16.gpkg\n",
      "Gen stop 17\n"
     ]
    },
    {
     "name": "stderr",
     "output_type": "stream",
     "text": [
      "/home/gamma/gtfs-feed-vis/feed.py:236: FutureWarning: The behavior of DataFrame concatenation with empty or all-NA entries is deprecated. In a future version, this will no longer exclude empty or all-NA columns when determining the result dtypes. To retain the old behavior, exclude the relevant entries before the concat operation.\n",
      "  shp_empty=pd.concat([shp_empty, shp_serving])\n"
     ]
    },
    {
     "name": "stdout",
     "output_type": "stream",
     "text": [
      "/home/gamma/gtfs-feed-vis/uud/gtfs/stop_17/stop_17.gpkg\n",
      "Gen stop 18\n",
      "Series([], Name: count, dtype: int64)\n"
     ]
    },
    {
     "name": "stderr",
     "output_type": "stream",
     "text": [
      "/home/gamma/gtfs-feed-vis/feed.py:236: FutureWarning: The behavior of DataFrame concatenation with empty or all-NA entries is deprecated. In a future version, this will no longer exclude empty or all-NA columns when determining the result dtypes. To retain the old behavior, exclude the relevant entries before the concat operation.\n",
      "  shp_empty=pd.concat([shp_empty, shp_serving])\n"
     ]
    },
    {
     "name": "stdout",
     "output_type": "stream",
     "text": [
      "/home/gamma/gtfs-feed-vis/uud/gtfs/stop_18/stop_18.gpkg\n",
      "Gen stop 19\n",
      "Series([], Name: count, dtype: int64)\n"
     ]
    },
    {
     "name": "stderr",
     "output_type": "stream",
     "text": [
      "/home/gamma/gtfs-feed-vis/feed.py:236: FutureWarning: The behavior of DataFrame concatenation with empty or all-NA entries is deprecated. In a future version, this will no longer exclude empty or all-NA columns when determining the result dtypes. To retain the old behavior, exclude the relevant entries before the concat operation.\n",
      "  shp_empty=pd.concat([shp_empty, shp_serving])\n"
     ]
    },
    {
     "name": "stdout",
     "output_type": "stream",
     "text": [
      "/home/gamma/gtfs-feed-vis/uud/gtfs/stop_19/stop_19.gpkg\n",
      "Gen stop 20\n"
     ]
    },
    {
     "name": "stderr",
     "output_type": "stream",
     "text": [
      "/home/gamma/gtfs-feed-vis/feed.py:236: FutureWarning: The behavior of DataFrame concatenation with empty or all-NA entries is deprecated. In a future version, this will no longer exclude empty or all-NA columns when determining the result dtypes. To retain the old behavior, exclude the relevant entries before the concat operation.\n",
      "  shp_empty=pd.concat([shp_empty, shp_serving])\n",
      "[2024-07-30 17:34:55.953] INFO : Setting number of threads to 10\n"
     ]
    },
    {
     "name": "stdout",
     "output_type": "stream",
     "text": [
      "/home/gamma/gtfs-feed-vis/uud/gtfs/stop_20/stop_20.gpkg\n",
      "Gen stop 21\n"
     ]
    },
    {
     "name": "stderr",
     "output_type": "stream",
     "text": [
      "/home/gamma/gtfs-feed-vis/feed.py:236: FutureWarning: The behavior of DataFrame concatenation with empty or all-NA entries is deprecated. In a future version, this will no longer exclude empty or all-NA columns when determining the result dtypes. To retain the old behavior, exclude the relevant entries before the concat operation.\n",
      "  shp_empty=pd.concat([shp_empty, shp_serving])\n"
     ]
    },
    {
     "name": "stdout",
     "output_type": "stream",
     "text": [
      "/home/gamma/gtfs-feed-vis/uud/gtfs/stop_21/stop_21.gpkg\n",
      "Gen stop 22\n"
     ]
    },
    {
     "name": "stderr",
     "output_type": "stream",
     "text": [
      "/home/gamma/gtfs-feed-vis/feed.py:236: FutureWarning: The behavior of DataFrame concatenation with empty or all-NA entries is deprecated. In a future version, this will no longer exclude empty or all-NA columns when determining the result dtypes. To retain the old behavior, exclude the relevant entries before the concat operation.\n",
      "  shp_empty=pd.concat([shp_empty, shp_serving])\n",
      "[2024-07-30 17:35:11.609] INFO : Setting number of threads to 10\n"
     ]
    },
    {
     "name": "stdout",
     "output_type": "stream",
     "text": [
      "/home/gamma/gtfs-feed-vis/uud/gtfs/stop_22/stop_22.gpkg\n",
      "Gen stop 23\n"
     ]
    },
    {
     "name": "stderr",
     "output_type": "stream",
     "text": [
      "/home/gamma/gtfs-feed-vis/feed.py:236: FutureWarning: The behavior of DataFrame concatenation with empty or all-NA entries is deprecated. In a future version, this will no longer exclude empty or all-NA columns when determining the result dtypes. To retain the old behavior, exclude the relevant entries before the concat operation.\n",
      "  shp_empty=pd.concat([shp_empty, shp_serving])\n"
     ]
    },
    {
     "name": "stdout",
     "output_type": "stream",
     "text": [
      "/home/gamma/gtfs-feed-vis/uud/gtfs/stop_23/stop_23.gpkg\n",
      "Gen stop 24\n",
      "Series([], Name: count, dtype: int64)\n"
     ]
    },
    {
     "name": "stderr",
     "output_type": "stream",
     "text": [
      "/home/gamma/gtfs-feed-vis/feed.py:236: FutureWarning: The behavior of DataFrame concatenation with empty or all-NA entries is deprecated. In a future version, this will no longer exclude empty or all-NA columns when determining the result dtypes. To retain the old behavior, exclude the relevant entries before the concat operation.\n",
      "  shp_empty=pd.concat([shp_empty, shp_serving])\n"
     ]
    },
    {
     "name": "stdout",
     "output_type": "stream",
     "text": [
      "/home/gamma/gtfs-feed-vis/uud/gtfs/stop_24/stop_24.gpkg\n",
      "Gen stop 25\n",
      "Series([], Name: count, dtype: int64)\n"
     ]
    },
    {
     "name": "stderr",
     "output_type": "stream",
     "text": [
      "/home/gamma/gtfs-feed-vis/feed.py:236: FutureWarning: The behavior of DataFrame concatenation with empty or all-NA entries is deprecated. In a future version, this will no longer exclude empty or all-NA columns when determining the result dtypes. To retain the old behavior, exclude the relevant entries before the concat operation.\n",
      "  shp_empty=pd.concat([shp_empty, shp_serving])\n"
     ]
    },
    {
     "name": "stdout",
     "output_type": "stream",
     "text": [
      "/home/gamma/gtfs-feed-vis/uud/gtfs/stop_25/stop_25.gpkg\n",
      "Gen stop 26\n",
      "Series([], Name: count, dtype: int64)\n"
     ]
    },
    {
     "name": "stderr",
     "output_type": "stream",
     "text": [
      "/home/gamma/gtfs-feed-vis/feed.py:236: FutureWarning: The behavior of DataFrame concatenation with empty or all-NA entries is deprecated. In a future version, this will no longer exclude empty or all-NA columns when determining the result dtypes. To retain the old behavior, exclude the relevant entries before the concat operation.\n",
      "  shp_empty=pd.concat([shp_empty, shp_serving])\n"
     ]
    },
    {
     "name": "stdout",
     "output_type": "stream",
     "text": [
      "/home/gamma/gtfs-feed-vis/uud/gtfs/stop_26/stop_26.gpkg\n",
      "Gen stop 27\n"
     ]
    },
    {
     "name": "stderr",
     "output_type": "stream",
     "text": [
      "/home/gamma/gtfs-feed-vis/feed.py:236: FutureWarning: The behavior of DataFrame concatenation with empty or all-NA entries is deprecated. In a future version, this will no longer exclude empty or all-NA columns when determining the result dtypes. To retain the old behavior, exclude the relevant entries before the concat operation.\n",
      "  shp_empty=pd.concat([shp_empty, shp_serving])\n"
     ]
    },
    {
     "name": "stdout",
     "output_type": "stream",
     "text": [
      "/home/gamma/gtfs-feed-vis/uud/gtfs/stop_27/stop_27.gpkg\n",
      "Gen stop 28\n"
     ]
    },
    {
     "name": "stderr",
     "output_type": "stream",
     "text": [
      "/home/gamma/gtfs-feed-vis/feed.py:236: FutureWarning: The behavior of DataFrame concatenation with empty or all-NA entries is deprecated. In a future version, this will no longer exclude empty or all-NA columns when determining the result dtypes. To retain the old behavior, exclude the relevant entries before the concat operation.\n",
      "  shp_empty=pd.concat([shp_empty, shp_serving])\n"
     ]
    },
    {
     "name": "stdout",
     "output_type": "stream",
     "text": [
      "/home/gamma/gtfs-feed-vis/uud/gtfs/stop_28/stop_28.gpkg\n",
      "Gen stop 29\n"
     ]
    },
    {
     "name": "stderr",
     "output_type": "stream",
     "text": [
      "/home/gamma/gtfs-feed-vis/feed.py:236: FutureWarning: The behavior of DataFrame concatenation with empty or all-NA entries is deprecated. In a future version, this will no longer exclude empty or all-NA columns when determining the result dtypes. To retain the old behavior, exclude the relevant entries before the concat operation.\n",
      "  shp_empty=pd.concat([shp_empty, shp_serving])\n"
     ]
    },
    {
     "name": "stdout",
     "output_type": "stream",
     "text": [
      "/home/gamma/gtfs-feed-vis/uud/gtfs/stop_29/stop_29.gpkg\n",
      "Gen stop 30\n"
     ]
    },
    {
     "name": "stderr",
     "output_type": "stream",
     "text": [
      "/home/gamma/gtfs-feed-vis/feed.py:236: FutureWarning: The behavior of DataFrame concatenation with empty or all-NA entries is deprecated. In a future version, this will no longer exclude empty or all-NA columns when determining the result dtypes. To retain the old behavior, exclude the relevant entries before the concat operation.\n",
      "  shp_empty=pd.concat([shp_empty, shp_serving])\n"
     ]
    },
    {
     "name": "stdout",
     "output_type": "stream",
     "text": [
      "/home/gamma/gtfs-feed-vis/uud/gtfs/stop_30/stop_30.gpkg\n",
      "Gen stop 31\n",
      "Series([], Name: count, dtype: int64)\n"
     ]
    },
    {
     "name": "stderr",
     "output_type": "stream",
     "text": [
      "/home/gamma/gtfs-feed-vis/feed.py:236: FutureWarning: The behavior of DataFrame concatenation with empty or all-NA entries is deprecated. In a future version, this will no longer exclude empty or all-NA columns when determining the result dtypes. To retain the old behavior, exclude the relevant entries before the concat operation.\n",
      "  shp_empty=pd.concat([shp_empty, shp_serving])\n"
     ]
    },
    {
     "name": "stdout",
     "output_type": "stream",
     "text": [
      "/home/gamma/gtfs-feed-vis/uud/gtfs/stop_31/stop_31.gpkg\n",
      "Gen stop 32\n",
      "Series([], Name: count, dtype: int64)\n"
     ]
    },
    {
     "name": "stderr",
     "output_type": "stream",
     "text": [
      "/home/gamma/gtfs-feed-vis/feed.py:236: FutureWarning: The behavior of DataFrame concatenation with empty or all-NA entries is deprecated. In a future version, this will no longer exclude empty or all-NA columns when determining the result dtypes. To retain the old behavior, exclude the relevant entries before the concat operation.\n",
      "  shp_empty=pd.concat([shp_empty, shp_serving])\n"
     ]
    },
    {
     "name": "stdout",
     "output_type": "stream",
     "text": [
      "/home/gamma/gtfs-feed-vis/uud/gtfs/stop_32/stop_32.gpkg\n",
      "Gen stop 33\n",
      "Series([], Name: count, dtype: int64)\n",
      "Series([], Name: count, dtype: int64)\n"
     ]
    },
    {
     "name": "stderr",
     "output_type": "stream",
     "text": [
      "/home/gamma/gtfs-feed-vis/feed.py:236: FutureWarning: The behavior of DataFrame concatenation with empty or all-NA entries is deprecated. In a future version, this will no longer exclude empty or all-NA columns when determining the result dtypes. To retain the old behavior, exclude the relevant entries before the concat operation.\n",
      "  shp_empty=pd.concat([shp_empty, shp_serving])\n"
     ]
    },
    {
     "name": "stdout",
     "output_type": "stream",
     "text": [
      "/home/gamma/gtfs-feed-vis/uud/gtfs/stop_33/stop_33.gpkg\n",
      "Gen stop 34\n",
      "Series([], Name: count, dtype: int64)\n",
      "Series([], Name: count, dtype: int64)\n"
     ]
    },
    {
     "name": "stderr",
     "output_type": "stream",
     "text": [
      "/home/gamma/gtfs-feed-vis/feed.py:236: FutureWarning: The behavior of DataFrame concatenation with empty or all-NA entries is deprecated. In a future version, this will no longer exclude empty or all-NA columns when determining the result dtypes. To retain the old behavior, exclude the relevant entries before the concat operation.\n",
      "  shp_empty=pd.concat([shp_empty, shp_serving])\n"
     ]
    },
    {
     "name": "stdout",
     "output_type": "stream",
     "text": [
      "/home/gamma/gtfs-feed-vis/uud/gtfs/stop_34/stop_34.gpkg\n",
      "Gen stop 35\n"
     ]
    },
    {
     "name": "stderr",
     "output_type": "stream",
     "text": [
      "/home/gamma/gtfs-feed-vis/feed.py:236: FutureWarning: The behavior of DataFrame concatenation with empty or all-NA entries is deprecated. In a future version, this will no longer exclude empty or all-NA columns when determining the result dtypes. To retain the old behavior, exclude the relevant entries before the concat operation.\n",
      "  shp_empty=pd.concat([shp_empty, shp_serving])\n"
     ]
    },
    {
     "name": "stdout",
     "output_type": "stream",
     "text": [
      "/home/gamma/gtfs-feed-vis/uud/gtfs/stop_35/stop_35.gpkg\n",
      "Gen stop 36\n"
     ]
    },
    {
     "name": "stderr",
     "output_type": "stream",
     "text": [
      "/home/gamma/gtfs-feed-vis/feed.py:236: FutureWarning: The behavior of DataFrame concatenation with empty or all-NA entries is deprecated. In a future version, this will no longer exclude empty or all-NA columns when determining the result dtypes. To retain the old behavior, exclude the relevant entries before the concat operation.\n",
      "  shp_empty=pd.concat([shp_empty, shp_serving])\n"
     ]
    },
    {
     "name": "stdout",
     "output_type": "stream",
     "text": [
      "/home/gamma/gtfs-feed-vis/uud/gtfs/stop_36/stop_36.gpkg\n",
      "Gen stop 37\n"
     ]
    },
    {
     "name": "stderr",
     "output_type": "stream",
     "text": [
      "/home/gamma/gtfs-feed-vis/feed.py:236: FutureWarning: The behavior of DataFrame concatenation with empty or all-NA entries is deprecated. In a future version, this will no longer exclude empty or all-NA columns when determining the result dtypes. To retain the old behavior, exclude the relevant entries before the concat operation.\n",
      "  shp_empty=pd.concat([shp_empty, shp_serving])\n"
     ]
    },
    {
     "name": "stdout",
     "output_type": "stream",
     "text": [
      "/home/gamma/gtfs-feed-vis/uud/gtfs/stop_37/stop_37.gpkg\n",
      "Gen stop 38\n"
     ]
    },
    {
     "name": "stderr",
     "output_type": "stream",
     "text": [
      "/home/gamma/gtfs-feed-vis/feed.py:236: FutureWarning: The behavior of DataFrame concatenation with empty or all-NA entries is deprecated. In a future version, this will no longer exclude empty or all-NA columns when determining the result dtypes. To retain the old behavior, exclude the relevant entries before the concat operation.\n",
      "  shp_empty=pd.concat([shp_empty, shp_serving])\n"
     ]
    },
    {
     "name": "stdout",
     "output_type": "stream",
     "text": [
      "/home/gamma/gtfs-feed-vis/uud/gtfs/stop_38/stop_38.gpkg\n",
      "Gen stop 39\n"
     ]
    },
    {
     "name": "stderr",
     "output_type": "stream",
     "text": [
      "/home/gamma/gtfs-feed-vis/feed.py:236: FutureWarning: The behavior of DataFrame concatenation with empty or all-NA entries is deprecated. In a future version, this will no longer exclude empty or all-NA columns when determining the result dtypes. To retain the old behavior, exclude the relevant entries before the concat operation.\n",
      "  shp_empty=pd.concat([shp_empty, shp_serving])\n"
     ]
    },
    {
     "name": "stdout",
     "output_type": "stream",
     "text": [
      "/home/gamma/gtfs-feed-vis/uud/gtfs/stop_39/stop_39.gpkg\n",
      "Gen stop 40\n",
      "Series([], Name: count, dtype: int64)\n"
     ]
    },
    {
     "name": "stderr",
     "output_type": "stream",
     "text": [
      "/home/gamma/gtfs-feed-vis/feed.py:236: FutureWarning: The behavior of DataFrame concatenation with empty or all-NA entries is deprecated. In a future version, this will no longer exclude empty or all-NA columns when determining the result dtypes. To retain the old behavior, exclude the relevant entries before the concat operation.\n",
      "  shp_empty=pd.concat([shp_empty, shp_serving])\n",
      "[2024-07-30 17:37:24.494] INFO : Setting number of threads to 10\n"
     ]
    },
    {
     "name": "stdout",
     "output_type": "stream",
     "text": [
      "/home/gamma/gtfs-feed-vis/uud/gtfs/stop_40/stop_40.gpkg\n",
      "Gen stop 41\n"
     ]
    },
    {
     "name": "stderr",
     "output_type": "stream",
     "text": [
      "/home/gamma/gtfs-feed-vis/feed.py:236: FutureWarning: The behavior of DataFrame concatenation with empty or all-NA entries is deprecated. In a future version, this will no longer exclude empty or all-NA columns when determining the result dtypes. To retain the old behavior, exclude the relevant entries before the concat operation.\n",
      "  shp_empty=pd.concat([shp_empty, shp_serving])\n"
     ]
    },
    {
     "name": "stdout",
     "output_type": "stream",
     "text": [
      "/home/gamma/gtfs-feed-vis/uud/gtfs/stop_41/stop_41.gpkg\n",
      "Gen stop 42\n"
     ]
    },
    {
     "name": "stderr",
     "output_type": "stream",
     "text": [
      "/home/gamma/gtfs-feed-vis/feed.py:236: FutureWarning: The behavior of DataFrame concatenation with empty or all-NA entries is deprecated. In a future version, this will no longer exclude empty or all-NA columns when determining the result dtypes. To retain the old behavior, exclude the relevant entries before the concat operation.\n",
      "  shp_empty=pd.concat([shp_empty, shp_serving])\n",
      "[2024-07-30 17:37:42.028] INFO : Setting number of threads to 10\n"
     ]
    },
    {
     "name": "stdout",
     "output_type": "stream",
     "text": [
      "/home/gamma/gtfs-feed-vis/uud/gtfs/stop_42/stop_42.gpkg\n",
      "Gen stop 43\n"
     ]
    },
    {
     "name": "stderr",
     "output_type": "stream",
     "text": [
      "/home/gamma/gtfs-feed-vis/feed.py:236: FutureWarning: The behavior of DataFrame concatenation with empty or all-NA entries is deprecated. In a future version, this will no longer exclude empty or all-NA columns when determining the result dtypes. To retain the old behavior, exclude the relevant entries before the concat operation.\n",
      "  shp_empty=pd.concat([shp_empty, shp_serving])\n",
      "[2024-07-30 17:37:52.620] INFO : Setting number of threads to 10\n"
     ]
    },
    {
     "name": "stdout",
     "output_type": "stream",
     "text": [
      "/home/gamma/gtfs-feed-vis/uud/gtfs/stop_43/stop_43.gpkg\n",
      "Gen stop 44\n"
     ]
    },
    {
     "name": "stderr",
     "output_type": "stream",
     "text": [
      "/home/gamma/gtfs-feed-vis/feed.py:236: FutureWarning: The behavior of DataFrame concatenation with empty or all-NA entries is deprecated. In a future version, this will no longer exclude empty or all-NA columns when determining the result dtypes. To retain the old behavior, exclude the relevant entries before the concat operation.\n",
      "  shp_empty=pd.concat([shp_empty, shp_serving])\n",
      "[2024-07-30 17:38:01.381] INFO : Setting number of threads to 10\n"
     ]
    },
    {
     "name": "stdout",
     "output_type": "stream",
     "text": [
      "/home/gamma/gtfs-feed-vis/uud/gtfs/stop_44/stop_44.gpkg\n",
      "Gen stop 45\n"
     ]
    },
    {
     "name": "stderr",
     "output_type": "stream",
     "text": [
      "/home/gamma/gtfs-feed-vis/feed.py:236: FutureWarning: The behavior of DataFrame concatenation with empty or all-NA entries is deprecated. In a future version, this will no longer exclude empty or all-NA columns when determining the result dtypes. To retain the old behavior, exclude the relevant entries before the concat operation.\n",
      "  shp_empty=pd.concat([shp_empty, shp_serving])\n",
      "[2024-07-30 17:38:11.062] INFO : Setting number of threads to 10\n"
     ]
    },
    {
     "name": "stdout",
     "output_type": "stream",
     "text": [
      "/home/gamma/gtfs-feed-vis/uud/gtfs/stop_45/stop_45.gpkg\n",
      "Gen stop 46\n"
     ]
    },
    {
     "name": "stderr",
     "output_type": "stream",
     "text": [
      "/home/gamma/gtfs-feed-vis/feed.py:236: FutureWarning: The behavior of DataFrame concatenation with empty or all-NA entries is deprecated. In a future version, this will no longer exclude empty or all-NA columns when determining the result dtypes. To retain the old behavior, exclude the relevant entries before the concat operation.\n",
      "  shp_empty=pd.concat([shp_empty, shp_serving])\n"
     ]
    },
    {
     "name": "stdout",
     "output_type": "stream",
     "text": [
      "/home/gamma/gtfs-feed-vis/uud/gtfs/stop_46/stop_46.gpkg\n",
      "Gen stop 47\n"
     ]
    },
    {
     "name": "stderr",
     "output_type": "stream",
     "text": [
      "/home/gamma/gtfs-feed-vis/feed.py:236: FutureWarning: The behavior of DataFrame concatenation with empty or all-NA entries is deprecated. In a future version, this will no longer exclude empty or all-NA columns when determining the result dtypes. To retain the old behavior, exclude the relevant entries before the concat operation.\n",
      "  shp_empty=pd.concat([shp_empty, shp_serving])\n",
      "[2024-07-30 17:38:32.188] INFO : Setting number of threads to 10\n"
     ]
    },
    {
     "name": "stdout",
     "output_type": "stream",
     "text": [
      "/home/gamma/gtfs-feed-vis/uud/gtfs/stop_47/stop_47.gpkg\n",
      "Gen stop 48\n"
     ]
    },
    {
     "name": "stderr",
     "output_type": "stream",
     "text": [
      "/home/gamma/gtfs-feed-vis/feed.py:236: FutureWarning: The behavior of DataFrame concatenation with empty or all-NA entries is deprecated. In a future version, this will no longer exclude empty or all-NA columns when determining the result dtypes. To retain the old behavior, exclude the relevant entries before the concat operation.\n",
      "  shp_empty=pd.concat([shp_empty, shp_serving])\n",
      "[2024-07-30 17:38:47.190] INFO : Setting number of threads to 10\n"
     ]
    },
    {
     "name": "stdout",
     "output_type": "stream",
     "text": [
      "/home/gamma/gtfs-feed-vis/uud/gtfs/stop_48/stop_48.gpkg\n",
      "Gen stop 49\n",
      "Series([], Name: count, dtype: int64)\n"
     ]
    },
    {
     "name": "stderr",
     "output_type": "stream",
     "text": [
      "/home/gamma/gtfs-feed-vis/feed.py:236: FutureWarning: The behavior of DataFrame concatenation with empty or all-NA entries is deprecated. In a future version, this will no longer exclude empty or all-NA columns when determining the result dtypes. To retain the old behavior, exclude the relevant entries before the concat operation.\n",
      "  shp_empty=pd.concat([shp_empty, shp_serving])\n"
     ]
    },
    {
     "name": "stdout",
     "output_type": "stream",
     "text": [
      "/home/gamma/gtfs-feed-vis/uud/gtfs/stop_49/stop_49.gpkg\n",
      "Gen stop 50\n",
      "Series([], Name: count, dtype: int64)\n"
     ]
    },
    {
     "name": "stderr",
     "output_type": "stream",
     "text": [
      "/home/gamma/gtfs-feed-vis/feed.py:236: FutureWarning: The behavior of DataFrame concatenation with empty or all-NA entries is deprecated. In a future version, this will no longer exclude empty or all-NA columns when determining the result dtypes. To retain the old behavior, exclude the relevant entries before the concat operation.\n",
      "  shp_empty=pd.concat([shp_empty, shp_serving])\n"
     ]
    },
    {
     "name": "stdout",
     "output_type": "stream",
     "text": [
      "/home/gamma/gtfs-feed-vis/uud/gtfs/stop_50/stop_50.gpkg\n",
      "Gen stop 51\n",
      "Series([], Name: count, dtype: int64)\n"
     ]
    },
    {
     "name": "stderr",
     "output_type": "stream",
     "text": [
      "/home/gamma/gtfs-feed-vis/feed.py:236: FutureWarning: The behavior of DataFrame concatenation with empty or all-NA entries is deprecated. In a future version, this will no longer exclude empty or all-NA columns when determining the result dtypes. To retain the old behavior, exclude the relevant entries before the concat operation.\n",
      "  shp_empty=pd.concat([shp_empty, shp_serving])\n"
     ]
    },
    {
     "name": "stdout",
     "output_type": "stream",
     "text": [
      "/home/gamma/gtfs-feed-vis/uud/gtfs/stop_51/stop_51.gpkg\n",
      "Gen stop 52\n",
      "Series([], Name: count, dtype: int64)\n"
     ]
    },
    {
     "name": "stderr",
     "output_type": "stream",
     "text": [
      "/home/gamma/gtfs-feed-vis/feed.py:236: FutureWarning: The behavior of DataFrame concatenation with empty or all-NA entries is deprecated. In a future version, this will no longer exclude empty or all-NA columns when determining the result dtypes. To retain the old behavior, exclude the relevant entries before the concat operation.\n",
      "  shp_empty=pd.concat([shp_empty, shp_serving])\n"
     ]
    },
    {
     "name": "stdout",
     "output_type": "stream",
     "text": [
      "/home/gamma/gtfs-feed-vis/uud/gtfs/stop_52/stop_52.gpkg\n",
      "Gen stop 53\n",
      "Series([], Name: count, dtype: int64)\n"
     ]
    },
    {
     "name": "stderr",
     "output_type": "stream",
     "text": [
      "/home/gamma/gtfs-feed-vis/feed.py:236: FutureWarning: The behavior of DataFrame concatenation with empty or all-NA entries is deprecated. In a future version, this will no longer exclude empty or all-NA columns when determining the result dtypes. To retain the old behavior, exclude the relevant entries before the concat operation.\n",
      "  shp_empty=pd.concat([shp_empty, shp_serving])\n"
     ]
    },
    {
     "name": "stdout",
     "output_type": "stream",
     "text": [
      "/home/gamma/gtfs-feed-vis/uud/gtfs/stop_53/stop_53.gpkg\n",
      "Gen stop 54\n",
      "Series([], Name: count, dtype: int64)\n"
     ]
    },
    {
     "name": "stderr",
     "output_type": "stream",
     "text": [
      "/home/gamma/gtfs-feed-vis/feed.py:236: FutureWarning: The behavior of DataFrame concatenation with empty or all-NA entries is deprecated. In a future version, this will no longer exclude empty or all-NA columns when determining the result dtypes. To retain the old behavior, exclude the relevant entries before the concat operation.\n",
      "  shp_empty=pd.concat([shp_empty, shp_serving])\n"
     ]
    },
    {
     "name": "stdout",
     "output_type": "stream",
     "text": [
      "/home/gamma/gtfs-feed-vis/uud/gtfs/stop_54/stop_54.gpkg\n",
      "Gen stop 55\n"
     ]
    },
    {
     "name": "stderr",
     "output_type": "stream",
     "text": [
      "/home/gamma/gtfs-feed-vis/feed.py:236: FutureWarning: The behavior of DataFrame concatenation with empty or all-NA entries is deprecated. In a future version, this will no longer exclude empty or all-NA columns when determining the result dtypes. To retain the old behavior, exclude the relevant entries before the concat operation.\n",
      "  shp_empty=pd.concat([shp_empty, shp_serving])\n"
     ]
    },
    {
     "name": "stdout",
     "output_type": "stream",
     "text": [
      "/home/gamma/gtfs-feed-vis/uud/gtfs/stop_55/stop_55.gpkg\n",
      "Gen stop 56\n",
      "Series([], Name: count, dtype: int64)\n"
     ]
    },
    {
     "name": "stderr",
     "output_type": "stream",
     "text": [
      "/home/gamma/gtfs-feed-vis/feed.py:236: FutureWarning: The behavior of DataFrame concatenation with empty or all-NA entries is deprecated. In a future version, this will no longer exclude empty or all-NA columns when determining the result dtypes. To retain the old behavior, exclude the relevant entries before the concat operation.\n",
      "  shp_empty=pd.concat([shp_empty, shp_serving])\n"
     ]
    },
    {
     "name": "stdout",
     "output_type": "stream",
     "text": [
      "/home/gamma/gtfs-feed-vis/uud/gtfs/stop_56/stop_56.gpkg\n",
      "Gen stop 57\n",
      "Series([], Name: count, dtype: int64)\n"
     ]
    },
    {
     "name": "stderr",
     "output_type": "stream",
     "text": [
      "/home/gamma/gtfs-feed-vis/feed.py:236: FutureWarning: The behavior of DataFrame concatenation with empty or all-NA entries is deprecated. In a future version, this will no longer exclude empty or all-NA columns when determining the result dtypes. To retain the old behavior, exclude the relevant entries before the concat operation.\n",
      "  shp_empty=pd.concat([shp_empty, shp_serving])\n"
     ]
    },
    {
     "name": "stdout",
     "output_type": "stream",
     "text": [
      "/home/gamma/gtfs-feed-vis/uud/gtfs/stop_57/stop_57.gpkg\n",
      "Gen stop 58\n",
      "Series([], Name: count, dtype: int64)\n"
     ]
    },
    {
     "name": "stderr",
     "output_type": "stream",
     "text": [
      "/home/gamma/gtfs-feed-vis/feed.py:236: FutureWarning: The behavior of DataFrame concatenation with empty or all-NA entries is deprecated. In a future version, this will no longer exclude empty or all-NA columns when determining the result dtypes. To retain the old behavior, exclude the relevant entries before the concat operation.\n",
      "  shp_empty=pd.concat([shp_empty, shp_serving])\n"
     ]
    },
    {
     "name": "stdout",
     "output_type": "stream",
     "text": [
      "/home/gamma/gtfs-feed-vis/uud/gtfs/stop_58/stop_58.gpkg\n",
      "Gen stop 59\n",
      "Series([], Name: count, dtype: int64)\n"
     ]
    },
    {
     "name": "stderr",
     "output_type": "stream",
     "text": [
      "/home/gamma/gtfs-feed-vis/feed.py:236: FutureWarning: The behavior of DataFrame concatenation with empty or all-NA entries is deprecated. In a future version, this will no longer exclude empty or all-NA columns when determining the result dtypes. To retain the old behavior, exclude the relevant entries before the concat operation.\n",
      "  shp_empty=pd.concat([shp_empty, shp_serving])\n"
     ]
    },
    {
     "name": "stdout",
     "output_type": "stream",
     "text": [
      "/home/gamma/gtfs-feed-vis/uud/gtfs/stop_59/stop_59.gpkg\n",
      "Gen stop 60\n",
      "Series([], Name: count, dtype: int64)\n"
     ]
    },
    {
     "name": "stderr",
     "output_type": "stream",
     "text": [
      "/home/gamma/gtfs-feed-vis/feed.py:236: FutureWarning: The behavior of DataFrame concatenation with empty or all-NA entries is deprecated. In a future version, this will no longer exclude empty or all-NA columns when determining the result dtypes. To retain the old behavior, exclude the relevant entries before the concat operation.\n",
      "  shp_empty=pd.concat([shp_empty, shp_serving])\n"
     ]
    },
    {
     "name": "stdout",
     "output_type": "stream",
     "text": [
      "/home/gamma/gtfs-feed-vis/uud/gtfs/stop_60/stop_60.gpkg\n",
      "Gen stop 61\n",
      "Series([], Name: count, dtype: int64)\n"
     ]
    },
    {
     "name": "stderr",
     "output_type": "stream",
     "text": [
      "/home/gamma/gtfs-feed-vis/feed.py:236: FutureWarning: The behavior of DataFrame concatenation with empty or all-NA entries is deprecated. In a future version, this will no longer exclude empty or all-NA columns when determining the result dtypes. To retain the old behavior, exclude the relevant entries before the concat operation.\n",
      "  shp_empty=pd.concat([shp_empty, shp_serving])\n"
     ]
    },
    {
     "name": "stdout",
     "output_type": "stream",
     "text": [
      "/home/gamma/gtfs-feed-vis/uud/gtfs/stop_61/stop_61.gpkg\n",
      "Gen stop 62\n",
      "Series([], Name: count, dtype: int64)\n"
     ]
    },
    {
     "name": "stderr",
     "output_type": "stream",
     "text": [
      "/home/gamma/gtfs-feed-vis/feed.py:236: FutureWarning: The behavior of DataFrame concatenation with empty or all-NA entries is deprecated. In a future version, this will no longer exclude empty or all-NA columns when determining the result dtypes. To retain the old behavior, exclude the relevant entries before the concat operation.\n",
      "  shp_empty=pd.concat([shp_empty, shp_serving])\n"
     ]
    },
    {
     "name": "stdout",
     "output_type": "stream",
     "text": [
      "/home/gamma/gtfs-feed-vis/uud/gtfs/stop_62/stop_62.gpkg\n",
      "Gen stop 63\n",
      "Series([], Name: count, dtype: int64)\n"
     ]
    },
    {
     "name": "stderr",
     "output_type": "stream",
     "text": [
      "/home/gamma/gtfs-feed-vis/feed.py:236: FutureWarning: The behavior of DataFrame concatenation with empty or all-NA entries is deprecated. In a future version, this will no longer exclude empty or all-NA columns when determining the result dtypes. To retain the old behavior, exclude the relevant entries before the concat operation.\n",
      "  shp_empty=pd.concat([shp_empty, shp_serving])\n"
     ]
    },
    {
     "name": "stdout",
     "output_type": "stream",
     "text": [
      "/home/gamma/gtfs-feed-vis/uud/gtfs/stop_63/stop_63.gpkg\n",
      "Gen stop 64\n",
      "Series([], Name: count, dtype: int64)\n"
     ]
    },
    {
     "name": "stderr",
     "output_type": "stream",
     "text": [
      "/home/gamma/gtfs-feed-vis/feed.py:236: FutureWarning: The behavior of DataFrame concatenation with empty or all-NA entries is deprecated. In a future version, this will no longer exclude empty or all-NA columns when determining the result dtypes. To retain the old behavior, exclude the relevant entries before the concat operation.\n",
      "  shp_empty=pd.concat([shp_empty, shp_serving])\n"
     ]
    },
    {
     "name": "stdout",
     "output_type": "stream",
     "text": [
      "/home/gamma/gtfs-feed-vis/uud/gtfs/stop_64/stop_64.gpkg\n",
      "Gen stop 65\n"
     ]
    },
    {
     "name": "stderr",
     "output_type": "stream",
     "text": [
      "/home/gamma/gtfs-feed-vis/feed.py:236: FutureWarning: The behavior of DataFrame concatenation with empty or all-NA entries is deprecated. In a future version, this will no longer exclude empty or all-NA columns when determining the result dtypes. To retain the old behavior, exclude the relevant entries before the concat operation.\n",
      "  shp_empty=pd.concat([shp_empty, shp_serving])\n"
     ]
    },
    {
     "name": "stdout",
     "output_type": "stream",
     "text": [
      "/home/gamma/gtfs-feed-vis/uud/gtfs/stop_65/stop_65.gpkg\n",
      "Gen stop 66\n"
     ]
    },
    {
     "name": "stderr",
     "output_type": "stream",
     "text": [
      "/home/gamma/gtfs-feed-vis/feed.py:236: FutureWarning: The behavior of DataFrame concatenation with empty or all-NA entries is deprecated. In a future version, this will no longer exclude empty or all-NA columns when determining the result dtypes. To retain the old behavior, exclude the relevant entries before the concat operation.\n",
      "  shp_empty=pd.concat([shp_empty, shp_serving])\n"
     ]
    },
    {
     "name": "stdout",
     "output_type": "stream",
     "text": [
      "/home/gamma/gtfs-feed-vis/uud/gtfs/stop_66/stop_66.gpkg\n",
      "Gen stop 67\n"
     ]
    },
    {
     "name": "stderr",
     "output_type": "stream",
     "text": [
      "/home/gamma/gtfs-feed-vis/feed.py:236: FutureWarning: The behavior of DataFrame concatenation with empty or all-NA entries is deprecated. In a future version, this will no longer exclude empty or all-NA columns when determining the result dtypes. To retain the old behavior, exclude the relevant entries before the concat operation.\n",
      "  shp_empty=pd.concat([shp_empty, shp_serving])\n"
     ]
    },
    {
     "name": "stdout",
     "output_type": "stream",
     "text": [
      "/home/gamma/gtfs-feed-vis/uud/gtfs/stop_67/stop_67.gpkg\n",
      "Gen stop 68\n"
     ]
    },
    {
     "name": "stderr",
     "output_type": "stream",
     "text": [
      "/home/gamma/gtfs-feed-vis/feed.py:236: FutureWarning: The behavior of DataFrame concatenation with empty or all-NA entries is deprecated. In a future version, this will no longer exclude empty or all-NA columns when determining the result dtypes. To retain the old behavior, exclude the relevant entries before the concat operation.\n",
      "  shp_empty=pd.concat([shp_empty, shp_serving])\n"
     ]
    },
    {
     "name": "stdout",
     "output_type": "stream",
     "text": [
      "/home/gamma/gtfs-feed-vis/uud/gtfs/stop_68/stop_68.gpkg\n",
      "Gen stop 69\n"
     ]
    },
    {
     "name": "stderr",
     "output_type": "stream",
     "text": [
      "/home/gamma/gtfs-feed-vis/feed.py:236: FutureWarning: The behavior of DataFrame concatenation with empty or all-NA entries is deprecated. In a future version, this will no longer exclude empty or all-NA columns when determining the result dtypes. To retain the old behavior, exclude the relevant entries before the concat operation.\n",
      "  shp_empty=pd.concat([shp_empty, shp_serving])\n"
     ]
    },
    {
     "name": "stdout",
     "output_type": "stream",
     "text": [
      "/home/gamma/gtfs-feed-vis/uud/gtfs/stop_69/stop_69.gpkg\n",
      "Gen stop 70\n",
      "Series([], Name: count, dtype: int64)\n"
     ]
    },
    {
     "name": "stderr",
     "output_type": "stream",
     "text": [
      "/home/gamma/gtfs-feed-vis/feed.py:236: FutureWarning: The behavior of DataFrame concatenation with empty or all-NA entries is deprecated. In a future version, this will no longer exclude empty or all-NA columns when determining the result dtypes. To retain the old behavior, exclude the relevant entries before the concat operation.\n",
      "  shp_empty=pd.concat([shp_empty, shp_serving])\n"
     ]
    },
    {
     "name": "stdout",
     "output_type": "stream",
     "text": [
      "/home/gamma/gtfs-feed-vis/uud/gtfs/stop_70/stop_70.gpkg\n",
      "Gen stop 71\n",
      "Series([], Name: count, dtype: int64)\n"
     ]
    },
    {
     "name": "stderr",
     "output_type": "stream",
     "text": [
      "/home/gamma/gtfs-feed-vis/feed.py:236: FutureWarning: The behavior of DataFrame concatenation with empty or all-NA entries is deprecated. In a future version, this will no longer exclude empty or all-NA columns when determining the result dtypes. To retain the old behavior, exclude the relevant entries before the concat operation.\n",
      "  shp_empty=pd.concat([shp_empty, shp_serving])\n",
      "[2024-07-30 17:41:45.524] INFO : Setting number of threads to 10\n"
     ]
    },
    {
     "name": "stdout",
     "output_type": "stream",
     "text": [
      "/home/gamma/gtfs-feed-vis/uud/gtfs/stop_71/stop_71.gpkg\n",
      "Gen stop 72\n",
      "Series([], Name: count, dtype: int64)\n"
     ]
    },
    {
     "name": "stderr",
     "output_type": "stream",
     "text": [
      "/home/gamma/gtfs-feed-vis/feed.py:236: FutureWarning: The behavior of DataFrame concatenation with empty or all-NA entries is deprecated. In a future version, this will no longer exclude empty or all-NA columns when determining the result dtypes. To retain the old behavior, exclude the relevant entries before the concat operation.\n",
      "  shp_empty=pd.concat([shp_empty, shp_serving])\n",
      "[2024-07-30 17:41:54.300] INFO : Setting number of threads to 10\n"
     ]
    },
    {
     "name": "stdout",
     "output_type": "stream",
     "text": [
      "/home/gamma/gtfs-feed-vis/uud/gtfs/stop_72/stop_72.gpkg\n",
      "Gen stop 73\n",
      "Series([], Name: count, dtype: int64)\n"
     ]
    },
    {
     "name": "stderr",
     "output_type": "stream",
     "text": [
      "/home/gamma/gtfs-feed-vis/feed.py:236: FutureWarning: The behavior of DataFrame concatenation with empty or all-NA entries is deprecated. In a future version, this will no longer exclude empty or all-NA columns when determining the result dtypes. To retain the old behavior, exclude the relevant entries before the concat operation.\n",
      "  shp_empty=pd.concat([shp_empty, shp_serving])\n"
     ]
    },
    {
     "name": "stdout",
     "output_type": "stream",
     "text": [
      "/home/gamma/gtfs-feed-vis/uud/gtfs/stop_73/stop_73.gpkg\n",
      "Gen stop 74\n",
      "Series([], Name: count, dtype: int64)\n"
     ]
    },
    {
     "name": "stderr",
     "output_type": "stream",
     "text": [
      "/home/gamma/gtfs-feed-vis/feed.py:236: FutureWarning: The behavior of DataFrame concatenation with empty or all-NA entries is deprecated. In a future version, this will no longer exclude empty or all-NA columns when determining the result dtypes. To retain the old behavior, exclude the relevant entries before the concat operation.\n",
      "  shp_empty=pd.concat([shp_empty, shp_serving])\n",
      "[2024-07-30 17:42:19.015] INFO : Setting number of threads to 10\n"
     ]
    },
    {
     "name": "stdout",
     "output_type": "stream",
     "text": [
      "/home/gamma/gtfs-feed-vis/uud/gtfs/stop_74/stop_74.gpkg\n",
      "Gen stop 75\n",
      "Series([], Name: count, dtype: int64)\n"
     ]
    },
    {
     "name": "stderr",
     "output_type": "stream",
     "text": [
      "/home/gamma/gtfs-feed-vis/feed.py:236: FutureWarning: The behavior of DataFrame concatenation with empty or all-NA entries is deprecated. In a future version, this will no longer exclude empty or all-NA columns when determining the result dtypes. To retain the old behavior, exclude the relevant entries before the concat operation.\n",
      "  shp_empty=pd.concat([shp_empty, shp_serving])\n",
      "[2024-07-30 17:42:27.468] INFO : Setting number of threads to 10\n"
     ]
    },
    {
     "name": "stdout",
     "output_type": "stream",
     "text": [
      "/home/gamma/gtfs-feed-vis/uud/gtfs/stop_75/stop_75.gpkg\n",
      "Gen stop 76\n",
      "Series([], Name: count, dtype: int64)\n"
     ]
    },
    {
     "name": "stderr",
     "output_type": "stream",
     "text": [
      "/home/gamma/gtfs-feed-vis/feed.py:236: FutureWarning: The behavior of DataFrame concatenation with empty or all-NA entries is deprecated. In a future version, this will no longer exclude empty or all-NA columns when determining the result dtypes. To retain the old behavior, exclude the relevant entries before the concat operation.\n",
      "  shp_empty=pd.concat([shp_empty, shp_serving])\n",
      "[2024-07-30 17:42:35.811] INFO : Setting number of threads to 10\n"
     ]
    },
    {
     "name": "stdout",
     "output_type": "stream",
     "text": [
      "/home/gamma/gtfs-feed-vis/uud/gtfs/stop_76/stop_76.gpkg\n",
      "Gen stop 77\n",
      "Series([], Name: count, dtype: int64)\n"
     ]
    },
    {
     "name": "stderr",
     "output_type": "stream",
     "text": [
      "/home/gamma/gtfs-feed-vis/feed.py:236: FutureWarning: The behavior of DataFrame concatenation with empty or all-NA entries is deprecated. In a future version, this will no longer exclude empty or all-NA columns when determining the result dtypes. To retain the old behavior, exclude the relevant entries before the concat operation.\n",
      "  shp_empty=pd.concat([shp_empty, shp_serving])\n",
      "[2024-07-30 17:42:43.900] INFO : Setting number of threads to 10\n"
     ]
    },
    {
     "name": "stdout",
     "output_type": "stream",
     "text": [
      "/home/gamma/gtfs-feed-vis/uud/gtfs/stop_77/stop_77.gpkg\n",
      "Gen stop 78\n",
      "Series([], Name: count, dtype: int64)\n"
     ]
    },
    {
     "name": "stderr",
     "output_type": "stream",
     "text": [
      "/home/gamma/gtfs-feed-vis/feed.py:236: FutureWarning: The behavior of DataFrame concatenation with empty or all-NA entries is deprecated. In a future version, this will no longer exclude empty or all-NA columns when determining the result dtypes. To retain the old behavior, exclude the relevant entries before the concat operation.\n",
      "  shp_empty=pd.concat([shp_empty, shp_serving])\n",
      "[2024-07-30 17:42:51.904] INFO : Setting number of threads to 10\n"
     ]
    },
    {
     "name": "stdout",
     "output_type": "stream",
     "text": [
      "/home/gamma/gtfs-feed-vis/uud/gtfs/stop_78/stop_78.gpkg\n",
      "Gen stop 79\n",
      "Series([], Name: count, dtype: int64)\n"
     ]
    },
    {
     "name": "stderr",
     "output_type": "stream",
     "text": [
      "/home/gamma/gtfs-feed-vis/feed.py:236: FutureWarning: The behavior of DataFrame concatenation with empty or all-NA entries is deprecated. In a future version, this will no longer exclude empty or all-NA columns when determining the result dtypes. To retain the old behavior, exclude the relevant entries before the concat operation.\n",
      "  shp_empty=pd.concat([shp_empty, shp_serving])\n"
     ]
    },
    {
     "name": "stdout",
     "output_type": "stream",
     "text": [
      "/home/gamma/gtfs-feed-vis/uud/gtfs/stop_79/stop_79.gpkg\n",
      "Gen stop 80\n"
     ]
    },
    {
     "name": "stderr",
     "output_type": "stream",
     "text": [
      "/home/gamma/gtfs-feed-vis/feed.py:236: FutureWarning: The behavior of DataFrame concatenation with empty or all-NA entries is deprecated. In a future version, this will no longer exclude empty or all-NA columns when determining the result dtypes. To retain the old behavior, exclude the relevant entries before the concat operation.\n",
      "  shp_empty=pd.concat([shp_empty, shp_serving])\n"
     ]
    },
    {
     "name": "stdout",
     "output_type": "stream",
     "text": [
      "/home/gamma/gtfs-feed-vis/uud/gtfs/stop_80/stop_80.gpkg\n",
      "Gen stop 81\n",
      "Series([], Name: count, dtype: int64)\n"
     ]
    },
    {
     "name": "stderr",
     "output_type": "stream",
     "text": [
      "/home/gamma/gtfs-feed-vis/feed.py:236: FutureWarning: The behavior of DataFrame concatenation with empty or all-NA entries is deprecated. In a future version, this will no longer exclude empty or all-NA columns when determining the result dtypes. To retain the old behavior, exclude the relevant entries before the concat operation.\n",
      "  shp_empty=pd.concat([shp_empty, shp_serving])\n"
     ]
    },
    {
     "name": "stdout",
     "output_type": "stream",
     "text": [
      "/home/gamma/gtfs-feed-vis/uud/gtfs/stop_81/stop_81.gpkg\n",
      "Gen stop 82\n",
      "Series([], Name: count, dtype: int64)\n"
     ]
    },
    {
     "name": "stderr",
     "output_type": "stream",
     "text": [
      "/home/gamma/gtfs-feed-vis/feed.py:236: FutureWarning: The behavior of DataFrame concatenation with empty or all-NA entries is deprecated. In a future version, this will no longer exclude empty or all-NA columns when determining the result dtypes. To retain the old behavior, exclude the relevant entries before the concat operation.\n",
      "  shp_empty=pd.concat([shp_empty, shp_serving])\n"
     ]
    },
    {
     "name": "stdout",
     "output_type": "stream",
     "text": [
      "/home/gamma/gtfs-feed-vis/uud/gtfs/stop_82/stop_82.gpkg\n",
      "Gen stop 83\n",
      "Series([], Name: count, dtype: int64)\n"
     ]
    },
    {
     "name": "stderr",
     "output_type": "stream",
     "text": [
      "/home/gamma/gtfs-feed-vis/feed.py:236: FutureWarning: The behavior of DataFrame concatenation with empty or all-NA entries is deprecated. In a future version, this will no longer exclude empty or all-NA columns when determining the result dtypes. To retain the old behavior, exclude the relevant entries before the concat operation.\n",
      "  shp_empty=pd.concat([shp_empty, shp_serving])\n"
     ]
    },
    {
     "name": "stdout",
     "output_type": "stream",
     "text": [
      "/home/gamma/gtfs-feed-vis/uud/gtfs/stop_83/stop_83.gpkg\n",
      "Gen stop 84\n",
      "Series([], Name: count, dtype: int64)\n"
     ]
    },
    {
     "name": "stderr",
     "output_type": "stream",
     "text": [
      "/home/gamma/gtfs-feed-vis/feed.py:236: FutureWarning: The behavior of DataFrame concatenation with empty or all-NA entries is deprecated. In a future version, this will no longer exclude empty or all-NA columns when determining the result dtypes. To retain the old behavior, exclude the relevant entries before the concat operation.\n",
      "  shp_empty=pd.concat([shp_empty, shp_serving])\n"
     ]
    },
    {
     "name": "stdout",
     "output_type": "stream",
     "text": [
      "/home/gamma/gtfs-feed-vis/uud/gtfs/stop_84/stop_84.gpkg\n",
      "Gen stop 85\n",
      "Series([], Name: count, dtype: int64)\n"
     ]
    },
    {
     "name": "stderr",
     "output_type": "stream",
     "text": [
      "/home/gamma/gtfs-feed-vis/feed.py:236: FutureWarning: The behavior of DataFrame concatenation with empty or all-NA entries is deprecated. In a future version, this will no longer exclude empty or all-NA columns when determining the result dtypes. To retain the old behavior, exclude the relevant entries before the concat operation.\n",
      "  shp_empty=pd.concat([shp_empty, shp_serving])\n"
     ]
    },
    {
     "name": "stdout",
     "output_type": "stream",
     "text": [
      "/home/gamma/gtfs-feed-vis/uud/gtfs/stop_85/stop_85.gpkg\n",
      "Gen stop 86\n",
      "Series([], Name: count, dtype: int64)\n"
     ]
    },
    {
     "name": "stderr",
     "output_type": "stream",
     "text": [
      "/home/gamma/gtfs-feed-vis/feed.py:236: FutureWarning: The behavior of DataFrame concatenation with empty or all-NA entries is deprecated. In a future version, this will no longer exclude empty or all-NA columns when determining the result dtypes. To retain the old behavior, exclude the relevant entries before the concat operation.\n",
      "  shp_empty=pd.concat([shp_empty, shp_serving])\n"
     ]
    },
    {
     "name": "stdout",
     "output_type": "stream",
     "text": [
      "/home/gamma/gtfs-feed-vis/uud/gtfs/stop_86/stop_86.gpkg\n",
      "Gen stop 87\n",
      "Series([], Name: count, dtype: int64)\n"
     ]
    },
    {
     "name": "stderr",
     "output_type": "stream",
     "text": [
      "/home/gamma/gtfs-feed-vis/feed.py:236: FutureWarning: The behavior of DataFrame concatenation with empty or all-NA entries is deprecated. In a future version, this will no longer exclude empty or all-NA columns when determining the result dtypes. To retain the old behavior, exclude the relevant entries before the concat operation.\n",
      "  shp_empty=pd.concat([shp_empty, shp_serving])\n"
     ]
    },
    {
     "name": "stdout",
     "output_type": "stream",
     "text": [
      "/home/gamma/gtfs-feed-vis/uud/gtfs/stop_87/stop_87.gpkg\n",
      "Gen stop 88\n",
      "Series([], Name: count, dtype: int64)\n"
     ]
    },
    {
     "name": "stderr",
     "output_type": "stream",
     "text": [
      "/home/gamma/gtfs-feed-vis/feed.py:236: FutureWarning: The behavior of DataFrame concatenation with empty or all-NA entries is deprecated. In a future version, this will no longer exclude empty or all-NA columns when determining the result dtypes. To retain the old behavior, exclude the relevant entries before the concat operation.\n",
      "  shp_empty=pd.concat([shp_empty, shp_serving])\n"
     ]
    },
    {
     "name": "stdout",
     "output_type": "stream",
     "text": [
      "/home/gamma/gtfs-feed-vis/uud/gtfs/stop_88/stop_88.gpkg\n",
      "Gen stop 89\n",
      "Series([], Name: count, dtype: int64)\n"
     ]
    },
    {
     "name": "stderr",
     "output_type": "stream",
     "text": [
      "/home/gamma/gtfs-feed-vis/feed.py:236: FutureWarning: The behavior of DataFrame concatenation with empty or all-NA entries is deprecated. In a future version, this will no longer exclude empty or all-NA columns when determining the result dtypes. To retain the old behavior, exclude the relevant entries before the concat operation.\n",
      "  shp_empty=pd.concat([shp_empty, shp_serving])\n"
     ]
    },
    {
     "name": "stdout",
     "output_type": "stream",
     "text": [
      "/home/gamma/gtfs-feed-vis/uud/gtfs/stop_89/stop_89.gpkg\n",
      "Gen stop 90\n",
      "Series([], Name: count, dtype: int64)\n"
     ]
    },
    {
     "name": "stderr",
     "output_type": "stream",
     "text": [
      "/home/gamma/gtfs-feed-vis/feed.py:236: FutureWarning: The behavior of DataFrame concatenation with empty or all-NA entries is deprecated. In a future version, this will no longer exclude empty or all-NA columns when determining the result dtypes. To retain the old behavior, exclude the relevant entries before the concat operation.\n",
      "  shp_empty=pd.concat([shp_empty, shp_serving])\n"
     ]
    },
    {
     "name": "stdout",
     "output_type": "stream",
     "text": [
      "/home/gamma/gtfs-feed-vis/uud/gtfs/stop_90/stop_90.gpkg\n",
      "Gen stop 91\n"
     ]
    },
    {
     "name": "stderr",
     "output_type": "stream",
     "text": [
      "/home/gamma/gtfs-feed-vis/feed.py:236: FutureWarning: The behavior of DataFrame concatenation with empty or all-NA entries is deprecated. In a future version, this will no longer exclude empty or all-NA columns when determining the result dtypes. To retain the old behavior, exclude the relevant entries before the concat operation.\n",
      "  shp_empty=pd.concat([shp_empty, shp_serving])\n"
     ]
    },
    {
     "name": "stdout",
     "output_type": "stream",
     "text": [
      "/home/gamma/gtfs-feed-vis/uud/gtfs/stop_91/stop_91.gpkg\n",
      "Gen stop 92\n"
     ]
    },
    {
     "name": "stderr",
     "output_type": "stream",
     "text": [
      "/home/gamma/gtfs-feed-vis/feed.py:236: FutureWarning: The behavior of DataFrame concatenation with empty or all-NA entries is deprecated. In a future version, this will no longer exclude empty or all-NA columns when determining the result dtypes. To retain the old behavior, exclude the relevant entries before the concat operation.\n",
      "  shp_empty=pd.concat([shp_empty, shp_serving])\n"
     ]
    },
    {
     "name": "stdout",
     "output_type": "stream",
     "text": [
      "/home/gamma/gtfs-feed-vis/uud/gtfs/stop_92/stop_92.gpkg\n",
      "Gen stop 93\n"
     ]
    },
    {
     "name": "stderr",
     "output_type": "stream",
     "text": [
      "/home/gamma/gtfs-feed-vis/feed.py:236: FutureWarning: The behavior of DataFrame concatenation with empty or all-NA entries is deprecated. In a future version, this will no longer exclude empty or all-NA columns when determining the result dtypes. To retain the old behavior, exclude the relevant entries before the concat operation.\n",
      "  shp_empty=pd.concat([shp_empty, shp_serving])\n"
     ]
    },
    {
     "name": "stdout",
     "output_type": "stream",
     "text": [
      "/home/gamma/gtfs-feed-vis/uud/gtfs/stop_93/stop_93.gpkg\n",
      "Gen stop 94\n"
     ]
    },
    {
     "name": "stderr",
     "output_type": "stream",
     "text": [
      "/home/gamma/gtfs-feed-vis/feed.py:236: FutureWarning: The behavior of DataFrame concatenation with empty or all-NA entries is deprecated. In a future version, this will no longer exclude empty or all-NA columns when determining the result dtypes. To retain the old behavior, exclude the relevant entries before the concat operation.\n",
      "  shp_empty=pd.concat([shp_empty, shp_serving])\n"
     ]
    },
    {
     "name": "stdout",
     "output_type": "stream",
     "text": [
      "/home/gamma/gtfs-feed-vis/uud/gtfs/stop_94/stop_94.gpkg\n",
      "Gen stop 95\n"
     ]
    },
    {
     "name": "stderr",
     "output_type": "stream",
     "text": [
      "/home/gamma/gtfs-feed-vis/feed.py:236: FutureWarning: The behavior of DataFrame concatenation with empty or all-NA entries is deprecated. In a future version, this will no longer exclude empty or all-NA columns when determining the result dtypes. To retain the old behavior, exclude the relevant entries before the concat operation.\n",
      "  shp_empty=pd.concat([shp_empty, shp_serving])\n"
     ]
    },
    {
     "name": "stdout",
     "output_type": "stream",
     "text": [
      "/home/gamma/gtfs-feed-vis/uud/gtfs/stop_95/stop_95.gpkg\n",
      "Gen stop 96\n"
     ]
    },
    {
     "name": "stderr",
     "output_type": "stream",
     "text": [
      "/home/gamma/gtfs-feed-vis/feed.py:236: FutureWarning: The behavior of DataFrame concatenation with empty or all-NA entries is deprecated. In a future version, this will no longer exclude empty or all-NA columns when determining the result dtypes. To retain the old behavior, exclude the relevant entries before the concat operation.\n",
      "  shp_empty=pd.concat([shp_empty, shp_serving])\n"
     ]
    },
    {
     "name": "stdout",
     "output_type": "stream",
     "text": [
      "/home/gamma/gtfs-feed-vis/uud/gtfs/stop_96/stop_96.gpkg\n",
      "Gen stop 97\n",
      "Series([], Name: count, dtype: int64)\n"
     ]
    },
    {
     "name": "stderr",
     "output_type": "stream",
     "text": [
      "/home/gamma/gtfs-feed-vis/feed.py:236: FutureWarning: The behavior of DataFrame concatenation with empty or all-NA entries is deprecated. In a future version, this will no longer exclude empty or all-NA columns when determining the result dtypes. To retain the old behavior, exclude the relevant entries before the concat operation.\n",
      "  shp_empty=pd.concat([shp_empty, shp_serving])\n"
     ]
    },
    {
     "name": "stdout",
     "output_type": "stream",
     "text": [
      "/home/gamma/gtfs-feed-vis/uud/gtfs/stop_97/stop_97.gpkg\n",
      "Gen stop 98\n",
      "Series([], Name: count, dtype: int64)\n"
     ]
    },
    {
     "name": "stderr",
     "output_type": "stream",
     "text": [
      "/home/gamma/gtfs-feed-vis/feed.py:236: FutureWarning: The behavior of DataFrame concatenation with empty or all-NA entries is deprecated. In a future version, this will no longer exclude empty or all-NA columns when determining the result dtypes. To retain the old behavior, exclude the relevant entries before the concat operation.\n",
      "  shp_empty=pd.concat([shp_empty, shp_serving])\n"
     ]
    },
    {
     "name": "stdout",
     "output_type": "stream",
     "text": [
      "/home/gamma/gtfs-feed-vis/uud/gtfs/stop_98/stop_98.gpkg\n",
      "Gen stop 99\n",
      "Series([], Name: count, dtype: int64)\n"
     ]
    },
    {
     "name": "stderr",
     "output_type": "stream",
     "text": [
      "/home/gamma/gtfs-feed-vis/feed.py:236: FutureWarning: The behavior of DataFrame concatenation with empty or all-NA entries is deprecated. In a future version, this will no longer exclude empty or all-NA columns when determining the result dtypes. To retain the old behavior, exclude the relevant entries before the concat operation.\n",
      "  shp_empty=pd.concat([shp_empty, shp_serving])\n"
     ]
    },
    {
     "name": "stdout",
     "output_type": "stream",
     "text": [
      "/home/gamma/gtfs-feed-vis/uud/gtfs/stop_99/stop_99.gpkg\n",
      "Gen stop 100\n",
      "Series([], Name: count, dtype: int64)\n"
     ]
    },
    {
     "name": "stderr",
     "output_type": "stream",
     "text": [
      "/home/gamma/gtfs-feed-vis/feed.py:236: FutureWarning: The behavior of DataFrame concatenation with empty or all-NA entries is deprecated. In a future version, this will no longer exclude empty or all-NA columns when determining the result dtypes. To retain the old behavior, exclude the relevant entries before the concat operation.\n",
      "  shp_empty=pd.concat([shp_empty, shp_serving])\n"
     ]
    },
    {
     "name": "stdout",
     "output_type": "stream",
     "text": [
      "/home/gamma/gtfs-feed-vis/uud/gtfs/stop_100/stop_100.gpkg\n"
     ]
    }
   ],
   "source": [
    "from feed import Feed, Loom\n",
    "import geopandas as gpd\n",
    "import pandas as pd\n",
    "stops=pd.read_csv('/home/gamma/gtfs-feed-vis/uud/gtfs'+'/stops.txt', sep=',')\n",
    "stop_ids=list(stops['stop_id'])\n",
    "for stop_id in stop_ids:\n",
    "\n",
    "    print(f'Gen stop {stop_id}')\n",
    "    loom=Loom('/home/gamma/gtfs-feed-vis/uud/gtfs', stop_id=stop_id)\n",
    "    loom.gtfs2graph()\n",
    "    loom.topo(max_aggr_dist=250, smooth=0.1)\n",
    "    loom.loom(optim_method='ilp', ilp=True, ilp_num_threads=10, ilp_solver='cbc')\n",
    "    loom.transitmap(render_engine='mvt', z=[14,15,16,17], line_width=40, line_spacing=10, render_dir_markers=True, tight_stations=True, no_render_node_connections=False)\n",
    "    loom.net2gpkg()"
   ]
  },
  {
   "cell_type": "code",
   "execution_count": null,
   "metadata": {},
   "outputs": [],
   "source": []
  },
  {
   "cell_type": "code",
   "execution_count": null,
   "metadata": {},
   "outputs": [],
   "source": []
  },
  {
   "cell_type": "code",
   "execution_count": null,
   "metadata": {},
   "outputs": [],
   "source": [
    "loom.transitmap(render_engine='svg', line_width=40, line_spacing=10, render_dir_markers=True, tight_stations=True, no_render_node_connections=True)"
   ]
  },
  {
   "cell_type": "code",
   "execution_count": null,
   "metadata": {},
   "outputs": [],
   "source": []
  },
  {
   "cell_type": "code",
   "execution_count": null,
   "metadata": {},
   "outputs": [],
   "source": [
    "lines, stations, inner_connections = loom.decode_mvt()\n",
    "lines=[fe for fes in lines for fe in fes]\n",
    "lines\n"
   ]
  },
  {
   "cell_type": "code",
   "execution_count": null,
   "metadata": {},
   "outputs": [],
   "source": []
  },
  {
   "cell_type": "code",
   "execution_count": null,
   "metadata": {},
   "outputs": [],
   "source": [
    "gdf_stations=gpd.GeoDataFrame.from_features(stations[0]['features'])\n",
    "gdf_stations"
   ]
  },
  {
   "cell_type": "code",
   "execution_count": null,
   "metadata": {},
   "outputs": [],
   "source": [
    "gdf_inner_connections=gpd.GeoDataFrame.from_features(inner_connections[0]['features'])\n",
    "gdf_inner_connections"
   ]
  },
  {
   "cell_type": "code",
   "execution_count": null,
   "metadata": {},
   "outputs": [],
   "source": [
    "import mapbox_vector_tile\n",
    "import os\n",
    "import math\n",
    "\n",
    "def pixel2deg(xtile, ytile, zoom, xpixel, ypixel, extent = 4096):\n",
    "    # from https://gis.stackexchange.com/a/460173/44746\n",
    "    n = 2.0 ** zoom\n",
    "    xtile = xtile + (xpixel / extent)\n",
    "    ytile = ytile + ((extent - ypixel) / extent)\n",
    "    lon_deg = (xtile / n) * 360.0 - 180.0\n",
    "    lat_rad = math.atan(math.sinh(math.pi * (1 - 2 * ytile / n)))\n",
    "    lat_deg = math.degrees(lat_rad)\n",
    "    return (lon_deg, lat_deg)\n",
    "\n",
    "inner_connections=[]\n",
    "lines=[]\n",
    "stations=[]\n",
    "zoomfolder='/home/gamma/gtfs-feed-vis/uud/gtfs/stop_23/14'\n",
    "for subdir, dirs, files in os.walk(zoomfolder):\n",
    "    for file in files:\n",
    "        #print(os.path.join(subdir, file))\n",
    "        tile=os.path.join(subdir, file)\n",
    "        with open(tile, 'rb') as f:\n",
    "            data=f.read()\n",
    "        tile_zoom=int(tile.split('/')[-3])\n",
    "        tile_x=int(tile.split('/')[-2])\n",
    "        tile_y=int(tile.split('/')[-1][:-4])\n",
    "        decoded_data = mapbox_vector_tile.decode(data, transformer = lambda x, y: pixel2deg(tile_x, tile_y, tile_zoom, x, y))\n",
    "        inner_connections.append(decoded_data['inner-connections'])\n",
    "        lines.append(decoded_data['lines'])\n",
    "        stations.append(decoded_data['stations'])\n",
    "stations"
   ]
  },
  {
   "cell_type": "code",
   "execution_count": null,
   "metadata": {},
   "outputs": [],
   "source": [
    "with open('/home/gamma/gtfs-feed-vis/uud/gtfs/stop_23/14/13087/5422.mvt', 'rb') as f:\n",
    "    data = f.read()\n",
    "decoded_data = mapbox_vector_tile.decode(data)\n",
    "decoded_data.keys()"
   ]
  },
  {
   "cell_type": "code",
   "execution_count": null,
   "metadata": {},
   "outputs": [],
   "source": []
  }
 ],
 "metadata": {
  "kernelspec": {
   "display_name": "Python 3",
   "language": "python",
   "name": "python3"
  },
  "language_info": {
   "codemirror_mode": {
    "name": "ipython",
    "version": 3
   },
   "file_extension": ".py",
   "mimetype": "text/x-python",
   "name": "python",
   "nbconvert_exporter": "python",
   "pygments_lexer": "ipython3",
   "version": "3.10.12"
  }
 },
 "nbformat": 4,
 "nbformat_minor": 2
}
